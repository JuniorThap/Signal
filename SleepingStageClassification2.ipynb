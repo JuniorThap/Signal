{
  "nbformat": 4,
  "nbformat_minor": 0,
  "metadata": {
    "colab": {
      "provenance": [],
      "toc_visible": true
    },
    "kernelspec": {
      "name": "python3",
      "display_name": "Python 3"
    },
    "language_info": {
      "name": "python"
    }
  },
  "cells": [
    {
      "cell_type": "code",
      "execution_count": 1,
      "metadata": {
        "colab": {
          "base_uri": "https://localhost:8080/"
        },
        "id": "9VyhF8bcOKeW",
        "outputId": "b674c197-dd37-47c9-c269-15a7ad60ee85"
      },
      "outputs": [
        {
          "output_type": "stream",
          "name": "stdout",
          "text": [
            "Fri Jun 14 23:36:30 2024       \r\n",
            "+-----------------------------------------------------------------------------+\r\n",
            "| NVIDIA-SMI 525.105.17   Driver Version: 525.105.17   CUDA Version: 12.0     |\r\n",
            "|-------------------------------+----------------------+----------------------+\r\n",
            "| GPU  Name        Persistence-M| Bus-Id        Disp.A | Volatile Uncorr. ECC |\r\n",
            "| Fan  Temp  Perf  Pwr:Usage/Cap|         Memory-Usage | GPU-Util  Compute M. |\r\n",
            "|                               |                      |               MIG M. |\r\n",
            "|===============================+======================+======================|\r\n",
            "|   0  NVIDIA A100-SXM...  On   | 00000000:03:00.0 Off |                    0 |\r\n",
            "| N/A   37C    P0    58W / 400W |   2195MiB / 40960MiB |      0%      Default |\r\n",
            "|                               |                      |             Disabled |\r\n",
            "+-------------------------------+----------------------+----------------------+\r\n",
            "                                                                               \r\n",
            "+-----------------------------------------------------------------------------+\r\n",
            "| Processes:                                                                  |\r\n",
            "|  GPU   GI   CI        PID   Type   Process name                  GPU Memory |\r\n",
            "|        ID   ID                                                   Usage      |\r\n",
            "|=============================================================================|\r\n",
            "|    0   N/A  N/A     36407      C   ...nvs/newenv/bin/python3.10      596MiB |\r\n",
            "|    0   N/A  N/A     37292      C   ...nvs/newenv/bin/python3.10     1596MiB |\r\n",
            "+-----------------------------------------------------------------------------+\r\n"
          ]
        }
      ],
      "source": [
        "!nvidia-smi"
      ]
    },
    {
      "cell_type": "markdown",
      "source": [
        "# Data"
      ],
      "metadata": {
        "id": "KvnFT5EenDz1"
      }
    },
    {
      "cell_type": "code",
      "source": [
        "import pandas as pd\n",
        "import numpy as np\n",
        "import matplotlib.pyplot as plt\n",
        "import mne\n",
        "import os\n",
        "from glob import glob\n",
        "from tqdm import tqdm"
      ],
      "metadata": {
        "id": "MTrvr-Vwm6P4"
      },
      "execution_count": 16,
      "outputs": []
    },
    {
      "cell_type": "code",
      "source": [
        "root = 'signaldataset/'\n",
        "all_df_train = glob(root + 'train/train/*.csv')\n",
        "all_df_test = glob(root + 'test/test_segment/*/*.csv')\n",
        "len(all_df_train),  len(all_df_test)"
      ],
      "metadata": {
        "colab": {
          "base_uri": "https://localhost:8080/"
        },
        "id": "A0onMRrynMIS",
        "outputId": "63f7860a-de2a-478d-c03d-0e09d8b41347"
      },
      "execution_count": 4,
      "outputs": [
        {
          "output_type": "execute_result",
          "data": {
            "text/plain": [
              "(83, 7970)"
            ]
          },
          "metadata": {},
          "execution_count": 4
        }
      ]
    },
    {
      "cell_type": "markdown",
      "source": [
        "## Sample"
      ],
      "metadata": {
        "id": "1XRa1yTtrk-5"
      }
    },
    {
      "cell_type": "code",
      "source": [
        "sample_df_train = pd.read_csv(all_df_train[0])\n",
        "sample_df_train"
      ],
      "metadata": {
        "colab": {
          "base_uri": "https://localhost:8080/",
          "height": 423
        },
        "id": "4FJikeJToB9a",
        "outputId": "5491233f-57c5-4fab-9021-ae32be237acf"
      },
      "execution_count": 5,
      "outputs": [
        {
          "output_type": "execute_result",
          "data": {
            "text/plain": [
              "           BVP  ACC_X  ACC_Y  ACC_Z   TEMP       EDA     HR       IBI  \\\n",
              "0       -23.52  -30.0  -31.0   49.0  31.15  0.585693  70.67  0.796875   \n",
              "1       -26.46  -30.0  -31.0   49.0  31.15  0.585693  70.67  0.796875   \n",
              "2       -29.41  -30.0  -32.0   49.0  31.15  0.585693  70.67  0.796875   \n",
              "3       -32.24  -30.0  -32.0   49.0  31.15  0.585693  70.67  0.796875   \n",
              "4       -34.78  -31.0  -32.0   48.0  31.15  0.585693  70.67  0.796875   \n",
              "...        ...    ...    ...    ...    ...       ...    ...       ...   \n",
              "1549435 -29.51   14.0   41.0   46.0  34.84  0.571534  49.45  1.187500   \n",
              "1549436 -12.62   14.0   42.0   46.0  34.84  0.571534  49.45  1.187500   \n",
              "1549437   3.43   14.0   42.0   46.0  34.84  0.571534  49.45  1.187500   \n",
              "1549438  18.57   14.0   41.0   46.0  34.84  0.571534  49.45  1.187500   \n",
              "1549439  32.73   14.0   41.0   46.0  34.84  0.571534  49.45  1.187500   \n",
              "\n",
              "        Sleep_Stage  \n",
              "0                 W  \n",
              "1                 W  \n",
              "2                 W  \n",
              "3                 W  \n",
              "4                 W  \n",
              "...             ...  \n",
              "1549435           W  \n",
              "1549436           W  \n",
              "1549437           W  \n",
              "1549438           W  \n",
              "1549439           W  \n",
              "\n",
              "[1549440 rows x 9 columns]"
            ],
            "text/html": [
              "<div>\n",
              "<style scoped>\n",
              "    .dataframe tbody tr th:only-of-type {\n",
              "        vertical-align: middle;\n",
              "    }\n",
              "\n",
              "    .dataframe tbody tr th {\n",
              "        vertical-align: top;\n",
              "    }\n",
              "\n",
              "    .dataframe thead th {\n",
              "        text-align: right;\n",
              "    }\n",
              "</style>\n",
              "<table border=\"1\" class=\"dataframe\">\n",
              "  <thead>\n",
              "    <tr style=\"text-align: right;\">\n",
              "      <th></th>\n",
              "      <th>BVP</th>\n",
              "      <th>ACC_X</th>\n",
              "      <th>ACC_Y</th>\n",
              "      <th>ACC_Z</th>\n",
              "      <th>TEMP</th>\n",
              "      <th>EDA</th>\n",
              "      <th>HR</th>\n",
              "      <th>IBI</th>\n",
              "      <th>Sleep_Stage</th>\n",
              "    </tr>\n",
              "  </thead>\n",
              "  <tbody>\n",
              "    <tr>\n",
              "      <th>0</th>\n",
              "      <td>-23.52</td>\n",
              "      <td>-30.0</td>\n",
              "      <td>-31.0</td>\n",
              "      <td>49.0</td>\n",
              "      <td>31.15</td>\n",
              "      <td>0.585693</td>\n",
              "      <td>70.67</td>\n",
              "      <td>0.796875</td>\n",
              "      <td>W</td>\n",
              "    </tr>\n",
              "    <tr>\n",
              "      <th>1</th>\n",
              "      <td>-26.46</td>\n",
              "      <td>-30.0</td>\n",
              "      <td>-31.0</td>\n",
              "      <td>49.0</td>\n",
              "      <td>31.15</td>\n",
              "      <td>0.585693</td>\n",
              "      <td>70.67</td>\n",
              "      <td>0.796875</td>\n",
              "      <td>W</td>\n",
              "    </tr>\n",
              "    <tr>\n",
              "      <th>2</th>\n",
              "      <td>-29.41</td>\n",
              "      <td>-30.0</td>\n",
              "      <td>-32.0</td>\n",
              "      <td>49.0</td>\n",
              "      <td>31.15</td>\n",
              "      <td>0.585693</td>\n",
              "      <td>70.67</td>\n",
              "      <td>0.796875</td>\n",
              "      <td>W</td>\n",
              "    </tr>\n",
              "    <tr>\n",
              "      <th>3</th>\n",
              "      <td>-32.24</td>\n",
              "      <td>-30.0</td>\n",
              "      <td>-32.0</td>\n",
              "      <td>49.0</td>\n",
              "      <td>31.15</td>\n",
              "      <td>0.585693</td>\n",
              "      <td>70.67</td>\n",
              "      <td>0.796875</td>\n",
              "      <td>W</td>\n",
              "    </tr>\n",
              "    <tr>\n",
              "      <th>4</th>\n",
              "      <td>-34.78</td>\n",
              "      <td>-31.0</td>\n",
              "      <td>-32.0</td>\n",
              "      <td>48.0</td>\n",
              "      <td>31.15</td>\n",
              "      <td>0.585693</td>\n",
              "      <td>70.67</td>\n",
              "      <td>0.796875</td>\n",
              "      <td>W</td>\n",
              "    </tr>\n",
              "    <tr>\n",
              "      <th>...</th>\n",
              "      <td>...</td>\n",
              "      <td>...</td>\n",
              "      <td>...</td>\n",
              "      <td>...</td>\n",
              "      <td>...</td>\n",
              "      <td>...</td>\n",
              "      <td>...</td>\n",
              "      <td>...</td>\n",
              "      <td>...</td>\n",
              "    </tr>\n",
              "    <tr>\n",
              "      <th>1549435</th>\n",
              "      <td>-29.51</td>\n",
              "      <td>14.0</td>\n",
              "      <td>41.0</td>\n",
              "      <td>46.0</td>\n",
              "      <td>34.84</td>\n",
              "      <td>0.571534</td>\n",
              "      <td>49.45</td>\n",
              "      <td>1.187500</td>\n",
              "      <td>W</td>\n",
              "    </tr>\n",
              "    <tr>\n",
              "      <th>1549436</th>\n",
              "      <td>-12.62</td>\n",
              "      <td>14.0</td>\n",
              "      <td>42.0</td>\n",
              "      <td>46.0</td>\n",
              "      <td>34.84</td>\n",
              "      <td>0.571534</td>\n",
              "      <td>49.45</td>\n",
              "      <td>1.187500</td>\n",
              "      <td>W</td>\n",
              "    </tr>\n",
              "    <tr>\n",
              "      <th>1549437</th>\n",
              "      <td>3.43</td>\n",
              "      <td>14.0</td>\n",
              "      <td>42.0</td>\n",
              "      <td>46.0</td>\n",
              "      <td>34.84</td>\n",
              "      <td>0.571534</td>\n",
              "      <td>49.45</td>\n",
              "      <td>1.187500</td>\n",
              "      <td>W</td>\n",
              "    </tr>\n",
              "    <tr>\n",
              "      <th>1549438</th>\n",
              "      <td>18.57</td>\n",
              "      <td>14.0</td>\n",
              "      <td>41.0</td>\n",
              "      <td>46.0</td>\n",
              "      <td>34.84</td>\n",
              "      <td>0.571534</td>\n",
              "      <td>49.45</td>\n",
              "      <td>1.187500</td>\n",
              "      <td>W</td>\n",
              "    </tr>\n",
              "    <tr>\n",
              "      <th>1549439</th>\n",
              "      <td>32.73</td>\n",
              "      <td>14.0</td>\n",
              "      <td>41.0</td>\n",
              "      <td>46.0</td>\n",
              "      <td>34.84</td>\n",
              "      <td>0.571534</td>\n",
              "      <td>49.45</td>\n",
              "      <td>1.187500</td>\n",
              "      <td>W</td>\n",
              "    </tr>\n",
              "  </tbody>\n",
              "</table>\n",
              "<p>1549440 rows × 9 columns</p>\n",
              "</div>"
            ]
          },
          "metadata": {},
          "execution_count": 5
        }
      ]
    },
    {
      "cell_type": "code",
      "source": [
        "labels = sample_df_train['Sleep_Stage'].unique()\n",
        "ids = range(len(labels))\n",
        "label2id = dict(zip(labels, ids))\n",
        "id2label = dict(zip(ids, labels))\n",
        "label2id, id2label"
      ],
      "metadata": {
        "colab": {
          "base_uri": "https://localhost:8080/"
        },
        "id": "uS96To2votO8",
        "outputId": "246fd098-ac43-404a-fb95-32e3ff969057"
      },
      "execution_count": 10,
      "outputs": [
        {
          "output_type": "execute_result",
          "data": {
            "text/plain": [
              "({'W': 0, 'N': 1, 'R': 2}, {0: 'W', 1: 'N', 2: 'R'})"
            ]
          },
          "metadata": {},
          "execution_count": 10
        }
      ]
    },
    {
      "cell_type": "code",
      "source": [
        "for key, value in label2id.items():\n",
        "  sample_df_train.loc[sample_df_train['Sleep_Stage']==key, 'Sleep_Stage'] = value\n",
        "sample_df_train"
      ],
      "metadata": {
        "colab": {
          "base_uri": "https://localhost:8080/",
          "height": 423
        },
        "id": "-_4KtGIdpKGz",
        "outputId": "1ffe119a-09b4-45e5-9a24-a16823e1e31d"
      },
      "execution_count": 12,
      "outputs": [
        {
          "output_type": "execute_result",
          "data": {
            "text/plain": [
              "           BVP  ACC_X  ACC_Y  ACC_Z   TEMP       EDA     HR       IBI  \\\n",
              "0       -23.52  -30.0  -31.0   49.0  31.15  0.585693  70.67  0.796875   \n",
              "1       -26.46  -30.0  -31.0   49.0  31.15  0.585693  70.67  0.796875   \n",
              "2       -29.41  -30.0  -32.0   49.0  31.15  0.585693  70.67  0.796875   \n",
              "3       -32.24  -30.0  -32.0   49.0  31.15  0.585693  70.67  0.796875   \n",
              "4       -34.78  -31.0  -32.0   48.0  31.15  0.585693  70.67  0.796875   \n",
              "...        ...    ...    ...    ...    ...       ...    ...       ...   \n",
              "1549435 -29.51   14.0   41.0   46.0  34.84  0.571534  49.45  1.187500   \n",
              "1549436 -12.62   14.0   42.0   46.0  34.84  0.571534  49.45  1.187500   \n",
              "1549437   3.43   14.0   42.0   46.0  34.84  0.571534  49.45  1.187500   \n",
              "1549438  18.57   14.0   41.0   46.0  34.84  0.571534  49.45  1.187500   \n",
              "1549439  32.73   14.0   41.0   46.0  34.84  0.571534  49.45  1.187500   \n",
              "\n",
              "        Sleep_Stage  \n",
              "0                 0  \n",
              "1                 0  \n",
              "2                 0  \n",
              "3                 0  \n",
              "4                 0  \n",
              "...             ...  \n",
              "1549435           0  \n",
              "1549436           0  \n",
              "1549437           0  \n",
              "1549438           0  \n",
              "1549439           0  \n",
              "\n",
              "[1549440 rows x 9 columns]"
            ],
            "text/html": [
              "<div>\n",
              "<style scoped>\n",
              "    .dataframe tbody tr th:only-of-type {\n",
              "        vertical-align: middle;\n",
              "    }\n",
              "\n",
              "    .dataframe tbody tr th {\n",
              "        vertical-align: top;\n",
              "    }\n",
              "\n",
              "    .dataframe thead th {\n",
              "        text-align: right;\n",
              "    }\n",
              "</style>\n",
              "<table border=\"1\" class=\"dataframe\">\n",
              "  <thead>\n",
              "    <tr style=\"text-align: right;\">\n",
              "      <th></th>\n",
              "      <th>BVP</th>\n",
              "      <th>ACC_X</th>\n",
              "      <th>ACC_Y</th>\n",
              "      <th>ACC_Z</th>\n",
              "      <th>TEMP</th>\n",
              "      <th>EDA</th>\n",
              "      <th>HR</th>\n",
              "      <th>IBI</th>\n",
              "      <th>Sleep_Stage</th>\n",
              "    </tr>\n",
              "  </thead>\n",
              "  <tbody>\n",
              "    <tr>\n",
              "      <th>0</th>\n",
              "      <td>-23.52</td>\n",
              "      <td>-30.0</td>\n",
              "      <td>-31.0</td>\n",
              "      <td>49.0</td>\n",
              "      <td>31.15</td>\n",
              "      <td>0.585693</td>\n",
              "      <td>70.67</td>\n",
              "      <td>0.796875</td>\n",
              "      <td>0</td>\n",
              "    </tr>\n",
              "    <tr>\n",
              "      <th>1</th>\n",
              "      <td>-26.46</td>\n",
              "      <td>-30.0</td>\n",
              "      <td>-31.0</td>\n",
              "      <td>49.0</td>\n",
              "      <td>31.15</td>\n",
              "      <td>0.585693</td>\n",
              "      <td>70.67</td>\n",
              "      <td>0.796875</td>\n",
              "      <td>0</td>\n",
              "    </tr>\n",
              "    <tr>\n",
              "      <th>2</th>\n",
              "      <td>-29.41</td>\n",
              "      <td>-30.0</td>\n",
              "      <td>-32.0</td>\n",
              "      <td>49.0</td>\n",
              "      <td>31.15</td>\n",
              "      <td>0.585693</td>\n",
              "      <td>70.67</td>\n",
              "      <td>0.796875</td>\n",
              "      <td>0</td>\n",
              "    </tr>\n",
              "    <tr>\n",
              "      <th>3</th>\n",
              "      <td>-32.24</td>\n",
              "      <td>-30.0</td>\n",
              "      <td>-32.0</td>\n",
              "      <td>49.0</td>\n",
              "      <td>31.15</td>\n",
              "      <td>0.585693</td>\n",
              "      <td>70.67</td>\n",
              "      <td>0.796875</td>\n",
              "      <td>0</td>\n",
              "    </tr>\n",
              "    <tr>\n",
              "      <th>4</th>\n",
              "      <td>-34.78</td>\n",
              "      <td>-31.0</td>\n",
              "      <td>-32.0</td>\n",
              "      <td>48.0</td>\n",
              "      <td>31.15</td>\n",
              "      <td>0.585693</td>\n",
              "      <td>70.67</td>\n",
              "      <td>0.796875</td>\n",
              "      <td>0</td>\n",
              "    </tr>\n",
              "    <tr>\n",
              "      <th>...</th>\n",
              "      <td>...</td>\n",
              "      <td>...</td>\n",
              "      <td>...</td>\n",
              "      <td>...</td>\n",
              "      <td>...</td>\n",
              "      <td>...</td>\n",
              "      <td>...</td>\n",
              "      <td>...</td>\n",
              "      <td>...</td>\n",
              "    </tr>\n",
              "    <tr>\n",
              "      <th>1549435</th>\n",
              "      <td>-29.51</td>\n",
              "      <td>14.0</td>\n",
              "      <td>41.0</td>\n",
              "      <td>46.0</td>\n",
              "      <td>34.84</td>\n",
              "      <td>0.571534</td>\n",
              "      <td>49.45</td>\n",
              "      <td>1.187500</td>\n",
              "      <td>0</td>\n",
              "    </tr>\n",
              "    <tr>\n",
              "      <th>1549436</th>\n",
              "      <td>-12.62</td>\n",
              "      <td>14.0</td>\n",
              "      <td>42.0</td>\n",
              "      <td>46.0</td>\n",
              "      <td>34.84</td>\n",
              "      <td>0.571534</td>\n",
              "      <td>49.45</td>\n",
              "      <td>1.187500</td>\n",
              "      <td>0</td>\n",
              "    </tr>\n",
              "    <tr>\n",
              "      <th>1549437</th>\n",
              "      <td>3.43</td>\n",
              "      <td>14.0</td>\n",
              "      <td>42.0</td>\n",
              "      <td>46.0</td>\n",
              "      <td>34.84</td>\n",
              "      <td>0.571534</td>\n",
              "      <td>49.45</td>\n",
              "      <td>1.187500</td>\n",
              "      <td>0</td>\n",
              "    </tr>\n",
              "    <tr>\n",
              "      <th>1549438</th>\n",
              "      <td>18.57</td>\n",
              "      <td>14.0</td>\n",
              "      <td>41.0</td>\n",
              "      <td>46.0</td>\n",
              "      <td>34.84</td>\n",
              "      <td>0.571534</td>\n",
              "      <td>49.45</td>\n",
              "      <td>1.187500</td>\n",
              "      <td>0</td>\n",
              "    </tr>\n",
              "    <tr>\n",
              "      <th>1549439</th>\n",
              "      <td>32.73</td>\n",
              "      <td>14.0</td>\n",
              "      <td>41.0</td>\n",
              "      <td>46.0</td>\n",
              "      <td>34.84</td>\n",
              "      <td>0.571534</td>\n",
              "      <td>49.45</td>\n",
              "      <td>1.187500</td>\n",
              "      <td>0</td>\n",
              "    </tr>\n",
              "  </tbody>\n",
              "</table>\n",
              "<p>1549440 rows × 9 columns</p>\n",
              "</div>"
            ]
          },
          "metadata": {},
          "execution_count": 12
        }
      ]
    },
    {
      "cell_type": "code",
      "source": [
        "sample_df_train.corr()"
      ],
      "metadata": {
        "colab": {
          "base_uri": "https://localhost:8080/",
          "height": 331
        },
        "id": "jMkekHJQp2at",
        "outputId": "a1b6370c-3a2d-4f9e-a8b9-6a3fead14a1d"
      },
      "execution_count": 13,
      "outputs": [
        {
          "output_type": "execute_result",
          "data": {
            "text/plain": [
              "                  BVP     ACC_X     ACC_Y     ACC_Z      TEMP       EDA  \\\n",
              "BVP          1.000000 -0.000032 -0.000257  0.000822  0.000027  0.000010   \n",
              "ACC_X       -0.000032  1.000000  0.789006  0.516862 -0.109545  0.034103   \n",
              "ACC_Y       -0.000257  0.789006  1.000000  0.123419  0.197503  0.238495   \n",
              "ACC_Z        0.000822  0.516862  0.123419  1.000000 -0.282636 -0.336458   \n",
              "TEMP         0.000027 -0.109545  0.197503 -0.282636  1.000000  0.173110   \n",
              "EDA          0.000010  0.034103  0.238495 -0.336458  0.173110  1.000000   \n",
              "HR           0.000160  0.007192 -0.113977  0.033909 -0.391673  0.117720   \n",
              "IBI         -0.000738 -0.011511  0.107051 -0.033403  0.300784 -0.046930   \n",
              "Sleep_Stage -0.000251  0.258546  0.305095  0.166942  0.268914 -0.114082   \n",
              "\n",
              "                   HR       IBI  Sleep_Stage  \n",
              "BVP          0.000160 -0.000738    -0.000251  \n",
              "ACC_X        0.007192 -0.011511     0.258546  \n",
              "ACC_Y       -0.113977  0.107051     0.305095  \n",
              "ACC_Z        0.033909 -0.033403     0.166942  \n",
              "TEMP        -0.391673  0.300784     0.268914  \n",
              "EDA          0.117720 -0.046930    -0.114082  \n",
              "HR           1.000000 -0.478762    -0.475636  \n",
              "IBI         -0.478762  1.000000     0.329698  \n",
              "Sleep_Stage -0.475636  0.329698     1.000000  "
            ],
            "text/html": [
              "<div>\n",
              "<style scoped>\n",
              "    .dataframe tbody tr th:only-of-type {\n",
              "        vertical-align: middle;\n",
              "    }\n",
              "\n",
              "    .dataframe tbody tr th {\n",
              "        vertical-align: top;\n",
              "    }\n",
              "\n",
              "    .dataframe thead th {\n",
              "        text-align: right;\n",
              "    }\n",
              "</style>\n",
              "<table border=\"1\" class=\"dataframe\">\n",
              "  <thead>\n",
              "    <tr style=\"text-align: right;\">\n",
              "      <th></th>\n",
              "      <th>BVP</th>\n",
              "      <th>ACC_X</th>\n",
              "      <th>ACC_Y</th>\n",
              "      <th>ACC_Z</th>\n",
              "      <th>TEMP</th>\n",
              "      <th>EDA</th>\n",
              "      <th>HR</th>\n",
              "      <th>IBI</th>\n",
              "      <th>Sleep_Stage</th>\n",
              "    </tr>\n",
              "  </thead>\n",
              "  <tbody>\n",
              "    <tr>\n",
              "      <th>BVP</th>\n",
              "      <td>1.000000</td>\n",
              "      <td>-0.000032</td>\n",
              "      <td>-0.000257</td>\n",
              "      <td>0.000822</td>\n",
              "      <td>0.000027</td>\n",
              "      <td>0.000010</td>\n",
              "      <td>0.000160</td>\n",
              "      <td>-0.000738</td>\n",
              "      <td>-0.000251</td>\n",
              "    </tr>\n",
              "    <tr>\n",
              "      <th>ACC_X</th>\n",
              "      <td>-0.000032</td>\n",
              "      <td>1.000000</td>\n",
              "      <td>0.789006</td>\n",
              "      <td>0.516862</td>\n",
              "      <td>-0.109545</td>\n",
              "      <td>0.034103</td>\n",
              "      <td>0.007192</td>\n",
              "      <td>-0.011511</td>\n",
              "      <td>0.258546</td>\n",
              "    </tr>\n",
              "    <tr>\n",
              "      <th>ACC_Y</th>\n",
              "      <td>-0.000257</td>\n",
              "      <td>0.789006</td>\n",
              "      <td>1.000000</td>\n",
              "      <td>0.123419</td>\n",
              "      <td>0.197503</td>\n",
              "      <td>0.238495</td>\n",
              "      <td>-0.113977</td>\n",
              "      <td>0.107051</td>\n",
              "      <td>0.305095</td>\n",
              "    </tr>\n",
              "    <tr>\n",
              "      <th>ACC_Z</th>\n",
              "      <td>0.000822</td>\n",
              "      <td>0.516862</td>\n",
              "      <td>0.123419</td>\n",
              "      <td>1.000000</td>\n",
              "      <td>-0.282636</td>\n",
              "      <td>-0.336458</td>\n",
              "      <td>0.033909</td>\n",
              "      <td>-0.033403</td>\n",
              "      <td>0.166942</td>\n",
              "    </tr>\n",
              "    <tr>\n",
              "      <th>TEMP</th>\n",
              "      <td>0.000027</td>\n",
              "      <td>-0.109545</td>\n",
              "      <td>0.197503</td>\n",
              "      <td>-0.282636</td>\n",
              "      <td>1.000000</td>\n",
              "      <td>0.173110</td>\n",
              "      <td>-0.391673</td>\n",
              "      <td>0.300784</td>\n",
              "      <td>0.268914</td>\n",
              "    </tr>\n",
              "    <tr>\n",
              "      <th>EDA</th>\n",
              "      <td>0.000010</td>\n",
              "      <td>0.034103</td>\n",
              "      <td>0.238495</td>\n",
              "      <td>-0.336458</td>\n",
              "      <td>0.173110</td>\n",
              "      <td>1.000000</td>\n",
              "      <td>0.117720</td>\n",
              "      <td>-0.046930</td>\n",
              "      <td>-0.114082</td>\n",
              "    </tr>\n",
              "    <tr>\n",
              "      <th>HR</th>\n",
              "      <td>0.000160</td>\n",
              "      <td>0.007192</td>\n",
              "      <td>-0.113977</td>\n",
              "      <td>0.033909</td>\n",
              "      <td>-0.391673</td>\n",
              "      <td>0.117720</td>\n",
              "      <td>1.000000</td>\n",
              "      <td>-0.478762</td>\n",
              "      <td>-0.475636</td>\n",
              "    </tr>\n",
              "    <tr>\n",
              "      <th>IBI</th>\n",
              "      <td>-0.000738</td>\n",
              "      <td>-0.011511</td>\n",
              "      <td>0.107051</td>\n",
              "      <td>-0.033403</td>\n",
              "      <td>0.300784</td>\n",
              "      <td>-0.046930</td>\n",
              "      <td>-0.478762</td>\n",
              "      <td>1.000000</td>\n",
              "      <td>0.329698</td>\n",
              "    </tr>\n",
              "    <tr>\n",
              "      <th>Sleep_Stage</th>\n",
              "      <td>-0.000251</td>\n",
              "      <td>0.258546</td>\n",
              "      <td>0.305095</td>\n",
              "      <td>0.166942</td>\n",
              "      <td>0.268914</td>\n",
              "      <td>-0.114082</td>\n",
              "      <td>-0.475636</td>\n",
              "      <td>0.329698</td>\n",
              "      <td>1.000000</td>\n",
              "    </tr>\n",
              "  </tbody>\n",
              "</table>\n",
              "</div>"
            ]
          },
          "metadata": {},
          "execution_count": 13
        }
      ]
    },
    {
      "cell_type": "code",
      "source": [
        "dropped_columns = 'BVP EDA HR'.split()\n",
        "dropped_columns"
      ],
      "metadata": {
        "colab": {
          "base_uri": "https://localhost:8080/"
        },
        "id": "qcHLgac9p-i4",
        "outputId": "a9603952-621d-4ee1-bebf-8403798db918"
      },
      "execution_count": 14,
      "outputs": [
        {
          "output_type": "execute_result",
          "data": {
            "text/plain": [
              "['BVP', 'EDA', 'HR']"
            ]
          },
          "metadata": {},
          "execution_count": 14
        }
      ]
    },
    {
      "cell_type": "markdown",
      "source": [
        "## Main Pipeline"
      ],
      "metadata": {
        "id": "6njQk621rPax"
      }
    },
    {
      "cell_type": "markdown",
      "source": [
        "use the \"dropped_column\" and \"label2id\" and \"id2label\" from Sample"
      ],
      "metadata": {
        "id": "apHbw76QrRuR"
      }
    },
    {
      "cell_type": "markdown",
      "source": [
        "Read file"
      ],
      "metadata": {
        "id": "IMSsYcpVtd6D"
      }
    },
    {
      "cell_type": "code",
      "source": [
        "df_trains = []\n",
        "for path in tqdm(all_df_train):\n",
        "  df_trains.append(pd.read_csv(path).drop(dropped_columns, axis=1))"
      ],
      "metadata": {
        "id": "UPVG-FACrfg9"
      },
      "execution_count": null,
      "outputs": []
    },
    {
      "cell_type": "code",
      "source": [
        "df_tests = []\n",
        "for path in tqdm(all_df_test):\n",
        "  df_tests.append(pd.read_csv(path).drop(dropped_columns, axis=1))"
      ],
      "metadata": {
        "colab": {
          "base_uri": "https://localhost:8080/"
        },
        "id": "BlcO8ywgJ-rl",
        "outputId": "8b056465-15aa-40a9-c445-37525b90b80e"
      },
      "execution_count": 49,
      "outputs": [
        {
          "output_type": "stream",
          "name": "stderr",
          "text": [
            "100%|██████████| 7970/7970 [02:49<00:00, 47.09it/s]\n"
          ]
        }
      ]
    },
    {
      "cell_type": "code",
      "source": [
        "df_tests[0], len(df_tests)"
      ],
      "metadata": {
        "colab": {
          "base_uri": "https://localhost:8080/"
        },
        "id": "YN78C3kjK9Wl",
        "outputId": "3f55180a-319d-457b-dc3b-54b9f75f42d0"
      },
      "execution_count": 52,
      "outputs": [
        {
          "output_type": "execute_result",
          "data": {
            "text/plain": [
              "(      ACC_X  ACC_Y  ACC_Z   TEMP      IBI\n",
              " 0     -64.0    5.0  -10.0  34.25  1.09375\n",
              " 1     -64.0    5.0  -10.0  34.25  1.09375\n",
              " 2     -64.0    5.0  -10.0  34.25  1.09375\n",
              " 3     -64.0    5.0  -10.0  34.25  1.09375\n",
              " 4     -64.0    5.0  -10.0  34.25  1.09375\n",
              " ...     ...    ...    ...    ...      ...\n",
              " 1915  -64.0    5.0  -10.0  34.23  1.09375\n",
              " 1916  -64.0    5.0  -10.0  34.23  1.09375\n",
              " 1917  -64.0    5.0  -10.0  34.23  1.09375\n",
              " 1918  -64.0    5.0  -10.0  34.23  1.09375\n",
              " 1919  -64.0    5.0  -10.0  34.23  1.09375\n",
              " \n",
              " [1920 rows x 5 columns],\n",
              " 7970)"
            ]
          },
          "metadata": {},
          "execution_count": 52
        }
      ]
    },
    {
      "cell_type": "markdown",
      "source": [
        "change label to id"
      ],
      "metadata": {
        "id": "c6rt1twjtgkb"
      }
    },
    {
      "cell_type": "code",
      "source": [
        "for key, value in tqdm(label2id.items()):\n",
        "  for df in df_trains:\n",
        "    df.loc[df['Sleep_Stage']==key, 'Sleep_Stage'] = value\n",
        "df_trains[0]"
      ],
      "metadata": {
        "colab": {
          "base_uri": "https://localhost:8080/",
          "height": 423
        },
        "id": "oJg8zZYzsc36",
        "outputId": "a0270c83-cf15-4ccf-c2ef-4edf05d5b542"
      },
      "execution_count": 20,
      "outputs": [
        {
          "output_type": "execute_result",
          "data": {
            "text/plain": [
              "         ACC_X  ACC_Y  ACC_Z   TEMP       IBI Sleep_Stage\n",
              "0        -30.0  -31.0   49.0  31.15  0.796875           0\n",
              "1        -30.0  -31.0   49.0  31.15  0.796875           0\n",
              "2        -30.0  -32.0   49.0  31.15  0.796875           0\n",
              "3        -30.0  -32.0   49.0  31.15  0.796875           0\n",
              "4        -31.0  -32.0   48.0  31.15  0.796875           0\n",
              "...        ...    ...    ...    ...       ...         ...\n",
              "1549435   14.0   41.0   46.0  34.84  1.187500           0\n",
              "1549436   14.0   42.0   46.0  34.84  1.187500           0\n",
              "1549437   14.0   42.0   46.0  34.84  1.187500           0\n",
              "1549438   14.0   41.0   46.0  34.84  1.187500           0\n",
              "1549439   14.0   41.0   46.0  34.84  1.187500           0\n",
              "\n",
              "[1549440 rows x 6 columns]"
            ],
            "text/html": [
              "<div>\n",
              "<style scoped>\n",
              "    .dataframe tbody tr th:only-of-type {\n",
              "        vertical-align: middle;\n",
              "    }\n",
              "\n",
              "    .dataframe tbody tr th {\n",
              "        vertical-align: top;\n",
              "    }\n",
              "\n",
              "    .dataframe thead th {\n",
              "        text-align: right;\n",
              "    }\n",
              "</style>\n",
              "<table border=\"1\" class=\"dataframe\">\n",
              "  <thead>\n",
              "    <tr style=\"text-align: right;\">\n",
              "      <th></th>\n",
              "      <th>ACC_X</th>\n",
              "      <th>ACC_Y</th>\n",
              "      <th>ACC_Z</th>\n",
              "      <th>TEMP</th>\n",
              "      <th>IBI</th>\n",
              "      <th>Sleep_Stage</th>\n",
              "    </tr>\n",
              "  </thead>\n",
              "  <tbody>\n",
              "    <tr>\n",
              "      <th>0</th>\n",
              "      <td>-30.0</td>\n",
              "      <td>-31.0</td>\n",
              "      <td>49.0</td>\n",
              "      <td>31.15</td>\n",
              "      <td>0.796875</td>\n",
              "      <td>0</td>\n",
              "    </tr>\n",
              "    <tr>\n",
              "      <th>1</th>\n",
              "      <td>-30.0</td>\n",
              "      <td>-31.0</td>\n",
              "      <td>49.0</td>\n",
              "      <td>31.15</td>\n",
              "      <td>0.796875</td>\n",
              "      <td>0</td>\n",
              "    </tr>\n",
              "    <tr>\n",
              "      <th>2</th>\n",
              "      <td>-30.0</td>\n",
              "      <td>-32.0</td>\n",
              "      <td>49.0</td>\n",
              "      <td>31.15</td>\n",
              "      <td>0.796875</td>\n",
              "      <td>0</td>\n",
              "    </tr>\n",
              "    <tr>\n",
              "      <th>3</th>\n",
              "      <td>-30.0</td>\n",
              "      <td>-32.0</td>\n",
              "      <td>49.0</td>\n",
              "      <td>31.15</td>\n",
              "      <td>0.796875</td>\n",
              "      <td>0</td>\n",
              "    </tr>\n",
              "    <tr>\n",
              "      <th>4</th>\n",
              "      <td>-31.0</td>\n",
              "      <td>-32.0</td>\n",
              "      <td>48.0</td>\n",
              "      <td>31.15</td>\n",
              "      <td>0.796875</td>\n",
              "      <td>0</td>\n",
              "    </tr>\n",
              "    <tr>\n",
              "      <th>...</th>\n",
              "      <td>...</td>\n",
              "      <td>...</td>\n",
              "      <td>...</td>\n",
              "      <td>...</td>\n",
              "      <td>...</td>\n",
              "      <td>...</td>\n",
              "    </tr>\n",
              "    <tr>\n",
              "      <th>1549435</th>\n",
              "      <td>14.0</td>\n",
              "      <td>41.0</td>\n",
              "      <td>46.0</td>\n",
              "      <td>34.84</td>\n",
              "      <td>1.187500</td>\n",
              "      <td>0</td>\n",
              "    </tr>\n",
              "    <tr>\n",
              "      <th>1549436</th>\n",
              "      <td>14.0</td>\n",
              "      <td>42.0</td>\n",
              "      <td>46.0</td>\n",
              "      <td>34.84</td>\n",
              "      <td>1.187500</td>\n",
              "      <td>0</td>\n",
              "    </tr>\n",
              "    <tr>\n",
              "      <th>1549437</th>\n",
              "      <td>14.0</td>\n",
              "      <td>42.0</td>\n",
              "      <td>46.0</td>\n",
              "      <td>34.84</td>\n",
              "      <td>1.187500</td>\n",
              "      <td>0</td>\n",
              "    </tr>\n",
              "    <tr>\n",
              "      <th>1549438</th>\n",
              "      <td>14.0</td>\n",
              "      <td>41.0</td>\n",
              "      <td>46.0</td>\n",
              "      <td>34.84</td>\n",
              "      <td>1.187500</td>\n",
              "      <td>0</td>\n",
              "    </tr>\n",
              "    <tr>\n",
              "      <th>1549439</th>\n",
              "      <td>14.0</td>\n",
              "      <td>41.0</td>\n",
              "      <td>46.0</td>\n",
              "      <td>34.84</td>\n",
              "      <td>1.187500</td>\n",
              "      <td>0</td>\n",
              "    </tr>\n",
              "  </tbody>\n",
              "</table>\n",
              "<p>1549440 rows × 6 columns</p>\n",
              "</div>"
            ]
          },
          "metadata": {},
          "execution_count": 20
        }
      ]
    },
    {
      "cell_type": "markdown",
      "source": [
        "change to np.array"
      ],
      "metadata": {
        "id": "wg064U3ptj3E"
      }
    },
    {
      "cell_type": "code",
      "source": [
        "trains_array = []\n",
        "for df in tqdm(df_trains):\n",
        "  trains_array.append(df.values)\n",
        "trains_array = np.concatenate(trains_array, axis=0)\n",
        "trains_array.shape"
      ],
      "metadata": {
        "colab": {
          "base_uri": "https://localhost:8080/"
        },
        "id": "gqHCWu0htmFD",
        "outputId": "57e395a5-a3b2-439e-b65c-166e0bd25219"
      },
      "execution_count": 23,
      "outputs": [
        {
          "output_type": "stream",
          "name": "stderr",
          "text": [
            "100%|██████████| 83/83 [00:15<00:00,  5.30it/s]\n"
          ]
        },
        {
          "output_type": "execute_result",
          "data": {
            "text/plain": [
              "(127885440, 6)"
            ]
          },
          "metadata": {},
          "execution_count": 23
        }
      ]
    },
    {
      "cell_type": "code",
      "source": [
        "tests_array = []\n",
        "for df in tqdm(df_tests):\n",
        "  tests_array.append(df.values)\n",
        "tests_array = np.array(tests_array)\n",
        "tests_array.shape"
      ],
      "metadata": {
        "colab": {
          "base_uri": "https://localhost:8080/"
        },
        "id": "PPDAa4KRKPCd",
        "outputId": "c2cf04be-5794-4781-8d34-08dc802cdb8f"
      },
      "execution_count": 53,
      "outputs": [
        {
          "output_type": "stream",
          "name": "stderr",
          "text": [
            "100%|██████████| 7970/7970 [00:00<00:00, 510890.74it/s]\n"
          ]
        },
        {
          "output_type": "execute_result",
          "data": {
            "text/plain": [
              "(7970, 1920, 5)"
            ]
          },
          "metadata": {},
          "execution_count": 53
        }
      ]
    },
    {
      "cell_type": "markdown",
      "source": [
        "segment"
      ],
      "metadata": {
        "id": "YOGKIBtmuYPB"
      }
    },
    {
      "cell_type": "code",
      "source": [
        "from scipy.stats import mode\n",
        "\n",
        "window_size = 30 * 64 # 30 s, 64 Hz\n",
        "stride = window_size # no overlap\n",
        "train_segment = []\n",
        "y = []\n",
        "t = trains_array.shape[0]\n",
        "for i in tqdm(range(0, t-window_size, stride)):\n",
        "  # exclude the label\n",
        "  train_segment.append(trains_array[i:i+window_size, :-1])\n",
        "  y.append(mode(trains_array[i:i+window_size, -1].astype(int))[0])\n",
        "\n",
        "train_segment = np.array(train_segment)\n",
        "y = np.array(y)\n",
        "\n",
        "train_segment.shape, y.shape"
      ],
      "metadata": {
        "colab": {
          "base_uri": "https://localhost:8080/"
        },
        "id": "jNq9F6AKuaZM",
        "outputId": "4a4da62a-9bc8-42b5-85ed-4e87eeebf388"
      },
      "execution_count": 40,
      "outputs": [
        {
          "output_type": "stream",
          "name": "stderr",
          "text": [
            "100%|██████████| 66606/66606 [00:15<00:00, 4170.98it/s]\n"
          ]
        },
        {
          "output_type": "execute_result",
          "data": {
            "text/plain": [
              "((66606, 1920, 5), (66606,))"
            ]
          },
          "metadata": {},
          "execution_count": 40
        }
      ]
    },
    {
      "cell_type": "markdown",
      "source": [
        "flatten"
      ],
      "metadata": {
        "id": "YlWrYyV4xjql"
      }
    },
    {
      "cell_type": "code",
      "source": [
        "p, t, f = train_segment.shape\n",
        "flatten_trains = train_segment.reshape(p, t*f)\n",
        "flatten_trains.shape"
      ],
      "metadata": {
        "colab": {
          "base_uri": "https://localhost:8080/"
        },
        "id": "VB9tqJbjxlA6",
        "outputId": "32692f0b-5461-4665-c118-df48b01f8339"
      },
      "execution_count": 41,
      "outputs": [
        {
          "output_type": "execute_result",
          "data": {
            "text/plain": [
              "(66606, 9600)"
            ]
          },
          "metadata": {},
          "execution_count": 41
        }
      ]
    },
    {
      "cell_type": "code",
      "source": [
        "p, t, f = tests_array.shape\n",
        "flatten_tests = tests_array.reshape(p, t*f)\n",
        "flatten_tests.shape"
      ],
      "metadata": {
        "colab": {
          "base_uri": "https://localhost:8080/"
        },
        "id": "6n0RAu-CLiqt",
        "outputId": "8332972b-fd3f-4c93-e4c0-ae1e9a7c6e0d"
      },
      "execution_count": 54,
      "outputs": [
        {
          "output_type": "execute_result",
          "data": {
            "text/plain": [
              "(7970, 9600)"
            ]
          },
          "metadata": {},
          "execution_count": 54
        }
      ]
    },
    {
      "cell_type": "markdown",
      "source": [
        "## Model"
      ],
      "metadata": {
        "id": "_nuuvpFtqWwG"
      }
    },
    {
      "cell_type": "code",
      "source": [
        "from sklearn.model_selection import train_test_split\n",
        "from sklearn.metrics import f1_score, ConfusionMatrixDisplay, confusion_matrix"
      ],
      "metadata": {
        "id": "FHAD2XDqx-Hy"
      },
      "execution_count": 42,
      "outputs": []
    },
    {
      "cell_type": "code",
      "source": [
        "X_train, X_test, y_train, y_test = train_test_split(flatten_trains, y, test_size=0.2)\n",
        "X_train.shape, y_train.shape"
      ],
      "metadata": {
        "colab": {
          "base_uri": "https://localhost:8080/"
        },
        "id": "qaHSPRofx6aa",
        "outputId": "7a0a6df1-4814-4445-fae2-9e5abdfe8ca6"
      },
      "execution_count": 43,
      "outputs": [
        {
          "output_type": "execute_result",
          "data": {
            "text/plain": [
              "((53284, 9600), (53284,))"
            ]
          },
          "metadata": {},
          "execution_count": 43
        }
      ]
    },
    {
      "cell_type": "markdown",
      "source": [
        "## RF"
      ],
      "metadata": {
        "id": "BuuLr_NJxmri"
      }
    },
    {
      "cell_type": "code",
      "source": [
        "from sklearn.ensemble import RandomForestClassifier\n",
        "from sklearn.metrics import confusion_matrix, ConfusionMatrixDisplay\n",
        "\n",
        "X_train_ = flatten_trains.copy()\n",
        "X_test_ = X_test.copy()\n",
        "y_train_ = y.copy()\n",
        "y_test_ = y_test.copy()\n",
        "\n",
        "clf = RandomForestClassifier(max_depth=None, random_state=888, n_estimators=2000)\n",
        "clf.fit(X_train_, y_train_)\n"
      ],
      "metadata": {
        "id": "KuQN_DljqXw6"
      },
      "execution_count": null,
      "outputs": []
    },
    {
      "cell_type": "code",
      "source": [
        "import pickle\n",
        "\n",
        "f = open('sleepRFful.pkl', 'wb')\n",
        "pickle.dump(clf, f)\n",
        "f.close()"
      ],
      "metadata": {
        "id": "9TLTY25hNLB_"
      },
      "execution_count": null,
      "outputs": []
    },
    {
      "cell_type": "code",
      "source": [
        "\n",
        "y_pred = clf.predict(X_test_)\n",
        "# print('accuracy_score: ', accuracy_score(y_test_, y_pred))\n",
        "print('f1_score: ', f1_score(y_test_, y_pred, average='weighted'))\n",
        "cm = confusion_matrix(y_test_, y_pred)\n",
        "disp = ConfusionMatrixDisplay(confusion_matrix=cm,\n",
        "                              display_labels=clf.classes_)\n",
        "disp.plot()"
      ],
      "metadata": {
        "colab": {
          "base_uri": "https://localhost:8080/",
          "height": 484
        },
        "id": "SWR9g-K8JO1k",
        "outputId": "a698ca24-8373-4bad-a5c1-d3b83402197f"
      },
      "execution_count": 46,
      "outputs": [
        {
          "output_type": "stream",
          "name": "stdout",
          "text": [
            "f1_score:  0.8700807462686311\n"
          ]
        },
        {
          "output_type": "execute_result",
          "data": {
            "text/plain": [
              "<sklearn.metrics._plot.confusion_matrix.ConfusionMatrixDisplay at 0x7ef792cbedd0>"
            ]
          },
          "metadata": {},
          "execution_count": 46
        },
        {
          "output_type": "display_data",
          "data": {
            "text/plain": [
              "<Figure size 640x480 with 2 Axes>"
            ],
            "image/png": "[encoded data removed]"
          },
          "metadata": {}
        }
      ]
    },
    {
      "cell_type": "markdown",
      "source": [
        "# Submit"
      ],
      "metadata": {
        "id": "ChGED8T5JfNc"
      }
    },
    {
      "cell_type": "code",
      "source": [
        "predict = clf.predict(flatten_tests)\n",
        "predict"
      ],
      "metadata": {
        "colab": {
          "base_uri": "https://localhost:8080/"
        },
        "id": "8qeX703RLrC9",
        "outputId": "00e8fb80-3dd0-4444-87b9-ce9fbe3c6ba1"
      },
      "execution_count": 55,
      "outputs": [
        {
          "output_type": "execute_result",
          "data": {
            "text/plain": [
              "array([1, 0, 1, ..., 1, 1, 1])"
            ]
          },
          "metadata": {},
          "execution_count": 55
        }
      ]
    },
    {
      "cell_type": "code",
      "source": [
        "predict = predict.astype(object)\n",
        "for key, value in id2label.items():\n",
        "  predict[predict==key] = value\n",
        "predict"
      ],
      "metadata": {
        "colab": {
          "base_uri": "https://localhost:8080/"
        },
        "id": "M35ZheZiL9U3",
        "outputId": "2cc4ba6e-8753-45be-f632-8c705b043b5b"
      },
      "execution_count": 58,
      "outputs": [
        {
          "output_type": "execute_result",
          "data": {
            "text/plain": [
              "array(['N', 'W', 'N', ..., 'N', 'N', 'N'], dtype=object)"
            ]
          },
          "metadata": {},
          "execution_count": 58
        }
      ]
    },
    {
      "cell_type": "code",
      "source": [
        "submit = pd.read_csv(root + 'sample_submission.csv')\n",
        "submit"
      ],
      "metadata": {
        "colab": {
          "base_uri": "https://localhost:8080/",
          "height": 423
        },
        "id": "wyTd6F8yLz1f",
        "outputId": "38ee184e-2efe-4ad8-b822-c23d2a44b44e"
      },
      "execution_count": 59,
      "outputs": [
        {
          "output_type": "execute_result",
          "data": {
            "text/plain": [
              "                 id labels\n",
              "0     test001_00000      W\n",
              "1     test001_00001      W\n",
              "2     test001_00002      W\n",
              "3     test001_00003    NaN\n",
              "4     test001_00004    NaN\n",
              "...             ...    ...\n",
              "7965  test010_00857    NaN\n",
              "7966  test010_00858    NaN\n",
              "7967  test010_00859    NaN\n",
              "7968  test010_00860    NaN\n",
              "7969  test010_00861    NaN\n",
              "\n",
              "[7970 rows x 2 columns]"
            ],
            "text/html": [
              "<div>\n",
              "<style scoped>\n",
              "    .dataframe tbody tr th:only-of-type {\n",
              "        vertical-align: middle;\n",
              "    }\n",
              "\n",
              "    .dataframe tbody tr th {\n",
              "        vertical-align: top;\n",
              "    }\n",
              "\n",
              "    .dataframe thead th {\n",
              "        text-align: right;\n",
              "    }\n",
              "</style>\n",
              "<table border=\"1\" class=\"dataframe\">\n",
              "  <thead>\n",
              "    <tr style=\"text-align: right;\">\n",
              "      <th></th>\n",
              "      <th>id</th>\n",
              "      <th>labels</th>\n",
              "    </tr>\n",
              "  </thead>\n",
              "  <tbody>\n",
              "    <tr>\n",
              "      <th>0</th>\n",
              "      <td>test001_00000</td>\n",
              "      <td>W</td>\n",
              "    </tr>\n",
              "    <tr>\n",
              "      <th>1</th>\n",
              "      <td>test001_00001</td>\n",
              "      <td>W</td>\n",
              "    </tr>\n",
              "    <tr>\n",
              "      <th>2</th>\n",
              "      <td>test001_00002</td>\n",
              "      <td>W</td>\n",
              "    </tr>\n",
              "    <tr>\n",
              "      <th>3</th>\n",
              "      <td>test001_00003</td>\n",
              "      <td>NaN</td>\n",
              "    </tr>\n",
              "    <tr>\n",
              "      <th>4</th>\n",
              "      <td>test001_00004</td>\n",
              "      <td>NaN</td>\n",
              "    </tr>\n",
              "    <tr>\n",
              "      <th>...</th>\n",
              "      <td>...</td>\n",
              "      <td>...</td>\n",
              "    </tr>\n",
              "    <tr>\n",
              "      <th>7965</th>\n",
              "      <td>test010_00857</td>\n",
              "      <td>NaN</td>\n",
              "    </tr>\n",
              "    <tr>\n",
              "      <th>7966</th>\n",
              "      <td>test010_00858</td>\n",
              "      <td>NaN</td>\n",
              "    </tr>\n",
              "    <tr>\n",
              "      <th>7967</th>\n",
              "      <td>test010_00859</td>\n",
              "      <td>NaN</td>\n",
              "    </tr>\n",
              "    <tr>\n",
              "      <th>7968</th>\n",
              "      <td>test010_00860</td>\n",
              "      <td>NaN</td>\n",
              "    </tr>\n",
              "    <tr>\n",
              "      <th>7969</th>\n",
              "      <td>test010_00861</td>\n",
              "      <td>NaN</td>\n",
              "    </tr>\n",
              "  </tbody>\n",
              "</table>\n",
              "<p>7970 rows × 2 columns</p>\n",
              "</div>"
            ]
          },
          "metadata": {},
          "execution_count": 59
        }
      ]
    },
    {
      "cell_type": "code",
      "source": [
        "submit['labels'] = predict\n",
        "submit"
      ],
      "metadata": {
        "colab": {
          "base_uri": "https://localhost:8080/",
          "height": 423
        },
        "id": "T0A6xuDsMNMo",
        "outputId": "40c8a985-3db9-4b8f-f193-e44c8dcc905a"
      },
      "execution_count": 60,
      "outputs": [
        {
          "output_type": "execute_result",
          "data": {
            "text/plain": [
              "                 id labels\n",
              "0     test001_00000      N\n",
              "1     test001_00001      W\n",
              "2     test001_00002      N\n",
              "3     test001_00003      N\n",
              "4     test001_00004      N\n",
              "...             ...    ...\n",
              "7965  test010_00857      N\n",
              "7966  test010_00858      W\n",
              "7967  test010_00859      N\n",
              "7968  test010_00860      N\n",
              "7969  test010_00861      N\n",
              "\n",
              "[7970 rows x 2 columns]"
            ],
            "text/html": [
              "<div>\n",
              "<style scoped>\n",
              "    .dataframe tbody tr th:only-of-type {\n",
              "        vertical-align: middle;\n",
              "    }\n",
              "\n",
              "    .dataframe tbody tr th {\n",
              "        vertical-align: top;\n",
              "    }\n",
              "\n",
              "    .dataframe thead th {\n",
              "        text-align: right;\n",
              "    }\n",
              "</style>\n",
              "<table border=\"1\" class=\"dataframe\">\n",
              "  <thead>\n",
              "    <tr style=\"text-align: right;\">\n",
              "      <th></th>\n",
              "      <th>id</th>\n",
              "      <th>labels</th>\n",
              "    </tr>\n",
              "  </thead>\n",
              "  <tbody>\n",
              "    <tr>\n",
              "      <th>0</th>\n",
              "      <td>test001_00000</td>\n",
              "      <td>N</td>\n",
              "    </tr>\n",
              "    <tr>\n",
              "      <th>1</th>\n",
              "      <td>test001_00001</td>\n",
              "      <td>W</td>\n",
              "    </tr>\n",
              "    <tr>\n",
              "      <th>2</th>\n",
              "      <td>test001_00002</td>\n",
              "      <td>N</td>\n",
              "    </tr>\n",
              "    <tr>\n",
              "      <th>3</th>\n",
              "      <td>test001_00003</td>\n",
              "      <td>N</td>\n",
              "    </tr>\n",
              "    <tr>\n",
              "      <th>4</th>\n",
              "      <td>test001_00004</td>\n",
              "      <td>N</td>\n",
              "    </tr>\n",
              "    <tr>\n",
              "      <th>...</th>\n",
              "      <td>...</td>\n",
              "      <td>...</td>\n",
              "    </tr>\n",
              "    <tr>\n",
              "      <th>7965</th>\n",
              "      <td>test010_00857</td>\n",
              "      <td>N</td>\n",
              "    </tr>\n",
              "    <tr>\n",
              "      <th>7966</th>\n",
              "      <td>test010_00858</td>\n",
              "      <td>W</td>\n",
              "    </tr>\n",
              "    <tr>\n",
              "      <th>7967</th>\n",
              "      <td>test010_00859</td>\n",
              "      <td>N</td>\n",
              "    </tr>\n",
              "    <tr>\n",
              "      <th>7968</th>\n",
              "      <td>test010_00860</td>\n",
              "      <td>N</td>\n",
              "    </tr>\n",
              "    <tr>\n",
              "      <th>7969</th>\n",
              "      <td>test010_00861</td>\n",
              "      <td>N</td>\n",
              "    </tr>\n",
              "  </tbody>\n",
              "</table>\n",
              "<p>7970 rows × 2 columns</p>\n",
              "</div>"
            ]
          },
          "metadata": {},
          "execution_count": 60
        }
      ]
    },
    {
      "cell_type": "code",
      "source": [
        "submit['labels'].iloc[0:3] = ['W']*3\n",
        "submit"
      ],
      "metadata": {
        "colab": {
          "base_uri": "https://localhost:8080/",
          "height": 423
        },
        "id": "bn-g6MKdMSvM",
        "outputId": "607b9083-2588-4a11-f5c1-38b637c61e99"
      },
      "execution_count": 61,
      "outputs": [
        {
          "output_type": "execute_result",
          "data": {
            "text/plain": [
              "                 id labels\n",
              "0     test001_00000      W\n",
              "1     test001_00001      W\n",
              "2     test001_00002      W\n",
              "3     test001_00003      N\n",
              "4     test001_00004      N\n",
              "...             ...    ...\n",
              "7965  test010_00857      N\n",
              "7966  test010_00858      W\n",
              "7967  test010_00859      N\n",
              "7968  test010_00860      N\n",
              "7969  test010_00861      N\n",
              "\n",
              "[7970 rows x 2 columns]"
            ],
            "text/html": [
              "<div>\n",
              "<style scoped>\n",
              "    .dataframe tbody tr th:only-of-type {\n",
              "        vertical-align: middle;\n",
              "    }\n",
              "\n",
              "    .dataframe tbody tr th {\n",
              "        vertical-align: top;\n",
              "    }\n",
              "\n",
              "    .dataframe thead th {\n",
              "        text-align: right;\n",
              "    }\n",
              "</style>\n",
              "<table border=\"1\" class=\"dataframe\">\n",
              "  <thead>\n",
              "    <tr style=\"text-align: right;\">\n",
              "      <th></th>\n",
              "      <th>id</th>\n",
              "      <th>labels</th>\n",
              "    </tr>\n",
              "  </thead>\n",
              "  <tbody>\n",
              "    <tr>\n",
              "      <th>0</th>\n",
              "      <td>test001_00000</td>\n",
              "      <td>W</td>\n",
              "    </tr>\n",
              "    <tr>\n",
              "      <th>1</th>\n",
              "      <td>test001_00001</td>\n",
              "      <td>W</td>\n",
              "    </tr>\n",
              "    <tr>\n",
              "      <th>2</th>\n",
              "      <td>test001_00002</td>\n",
              "      <td>W</td>\n",
              "    </tr>\n",
              "    <tr>\n",
              "      <th>3</th>\n",
              "      <td>test001_00003</td>\n",
              "      <td>N</td>\n",
              "    </tr>\n",
              "    <tr>\n",
              "      <th>4</th>\n",
              "      <td>test001_00004</td>\n",
              "      <td>N</td>\n",
              "    </tr>\n",
              "    <tr>\n",
              "      <th>...</th>\n",
              "      <td>...</td>\n",
              "      <td>...</td>\n",
              "    </tr>\n",
              "    <tr>\n",
              "      <th>7965</th>\n",
              "      <td>test010_00857</td>\n",
              "      <td>N</td>\n",
              "    </tr>\n",
              "    <tr>\n",
              "      <th>7966</th>\n",
              "      <td>test010_00858</td>\n",
              "      <td>W</td>\n",
              "    </tr>\n",
              "    <tr>\n",
              "      <th>7967</th>\n",
              "      <td>test010_00859</td>\n",
              "      <td>N</td>\n",
              "    </tr>\n",
              "    <tr>\n",
              "      <th>7968</th>\n",
              "      <td>test010_00860</td>\n",
              "      <td>N</td>\n",
              "    </tr>\n",
              "    <tr>\n",
              "      <th>7969</th>\n",
              "      <td>test010_00861</td>\n",
              "      <td>N</td>\n",
              "    </tr>\n",
              "  </tbody>\n",
              "</table>\n",
              "<p>7970 rows × 2 columns</p>\n",
              "</div>"
            ]
          },
          "metadata": {},
          "execution_count": 61
        }
      ]
    },
    {
      "cell_type": "code",
      "source": [
        "submit.to_csv('sleep_submit.csv', index=False)"
      ],
      "metadata": {
        "id": "H6CgokOZMfN-"
      },
      "execution_count": 63,
      "outputs": []
    }
  ]
}